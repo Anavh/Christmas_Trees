{
 "cells": [
  {
   "cell_type": "code",
   "execution_count": 14,
   "metadata": {},
   "outputs": [],
   "source": [
    "import math"
   ]
  },
  {
   "cell_type": "code",
   "execution_count": 15,
   "metadata": {},
   "outputs": [],
   "source": [
    "max=21\n",
    "separation=5\n",
    "j=1"
   ]
  },
  {
   "cell_type": "code",
   "execution_count": 16,
   "metadata": {},
   "outputs": [
    {
     "name": "stdout",
     "output_type": "stream",
     "text": [
      "               \n",
      "              **\n",
      "             ****\n",
      "            ******\n",
      "           ********\n",
      "          **********\n",
      "         ************\n",
      "        **************\n",
      "       ****************\n",
      "      ******************\n",
      "     ********************\n",
      "             ****\n",
      "             ****\n"
     ]
    }
   ],
   "source": [
    "for i in range(0,max,2):\n",
    "\n",
    "    line=(separation+math.ceil(max/2)-j)*\" \"\n",
    " \n",
    "    \n",
    "    line+=i*\"*\"\n",
    " \n",
    "    j+=1\n",
    "    print(line)\n",
    "    \n",
    "line=(separation+math.ceil(max/2)-3)*\" \"\n",
    "line+=4*\"*\"\n",
    "print(line)\n",
    "print(line)"
   ]
  }
 ],
 "metadata": {
  "kernelspec": {
   "display_name": "Python 3",
   "language": "python",
   "name": "python3"
  },
  "language_info": {
   "codemirror_mode": {
    "name": "ipython",
    "version": 3
   },
   "file_extension": ".py",
   "mimetype": "text/x-python",
   "name": "python",
   "nbconvert_exporter": "python",
   "pygments_lexer": "ipython3",
   "version": "3.8.3"
  }
 },
 "nbformat": 4,
 "nbformat_minor": 4
}