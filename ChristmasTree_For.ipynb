{
 "cells": [
  {
   "cell_type": "code",
   "execution_count": 72,
   "metadata": {},
   "outputs": [
    {
     "name": "stdout",
     "output_type": "stream",
     "text": [
      "  FELICES FIESTAS !!  \n",
      "         ★          \n",
      "         oo         \n",
      "         **         \n",
      "        oooo        \n",
      "        ****        \n",
      "       oooooo       \n",
      "       ******       \n",
      "      oooooooo      \n",
      "      ********      \n",
      "     oooooooooo     \n",
      "     **********     \n",
      "    oooooooooooo    \n",
      "    ************    \n",
      "   oooooooooooooo   \n",
      "   **************   \n",
      "  oooooooooooooooo  \n",
      "  ****************  \n",
      " oooooooooooooooooo \n",
      " ****************** \n",
      "oooooooooooooooooooo\n",
      "         ■          \n",
      "         ■          \n",
      "         ■          \n",
      "         ■          \n",
      "\n",
      "\n"
     ]
    }
   ],
   "source": [
    "print(\"¡¡ FELICES FIESTAS !!\".center(size+2, \" \"))\n",
    "size = 20\n",
    "\n",
    "for i in range(0, size):\n",
    "    if i == 0:\n",
    "        print(\"★\".center(size, \" \"))\n",
    "    elif i % 2 == 0 and i > 0:\n",
    "        print((\"*\"*i).center(size, \" \"))\n",
    "    else:\n",
    "        print((\"o\"*(i+1)).center(size, \" \"))\n",
    "\n",
    "for i in range(4):\n",
    "    print(\"■\".center(size, \" \"))\n",
    "\n",
    "init(autoreset=True)\n",
    "print()\n",
    "\n",
    "print()"
   ]
  }
 ],
 "metadata": {
  "kernelspec": {
   "display_name": "Python 3",
   "language": "python",
   "name": "python3"
  },
  "language_info": {
   "codemirror_mode": {
    "name": "ipython",
    "version": 3
   },
   "file_extension": ".py",
   "mimetype": "text/x-python",
   "name": "python",
   "nbconvert_exporter": "python",
   "pygments_lexer": "ipython3",
   "version": "3.8.3"
  }
 },
 "nbformat": 4,
 "nbformat_minor": 4
}